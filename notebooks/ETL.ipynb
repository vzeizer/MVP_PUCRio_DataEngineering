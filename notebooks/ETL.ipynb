{
 "cells": [
  {
   "cell_type": "code",
   "execution_count": 1,
   "metadata": {},
   "outputs": [],
   "source": [
    "import numpy as np\n",
    "import pandas as pd\n",
    "\n",
    "import seaborn as sns\n",
    "import matplotlib.pyplot as plt\n",
    "\n",
    "import warnings\n",
    "warnings.filterwarnings('ignore')\n",
    "pd.set_option('display.max_rows', 100)"
   ]
  },
  {
   "cell_type": "code",
   "execution_count": 2,
   "metadata": {},
   "outputs": [],
   "source": [
    "# Reading the Data\n",
    "df = pd.read_csv('./CrimesPR.csv',encoding='latin-1',delimiter=';')"
   ]
  },
  {
   "cell_type": "code",
   "execution_count": 3,
   "metadata": {},
   "outputs": [],
   "source": [
    "def clean_data(df):\n",
    "\n",
    "    # Replacing \"-\" by Null Values\n",
    "    df = df.replace(\"-\",np.nan)\n",
    "\n",
    "    # converting all the columns, except \"Localidade\"to the float type because \n",
    "    # some features were, originally, as \"object\" type.\n",
    "    for col in df.drop(columns=['Localidade']).columns:\n",
    "        df[col] = df[col].astype(float)\n",
    "    # dropping features with too much Null values\n",
    "    df = df.drop(columns=['Índice de Desenvolvimento Humano Municipal (IDHM) '])\n",
    "    df = df.drop(columns=['Produto Interno Bruto (PIB) per Capita (R$ 1,00)','Roubos de Veículos '])\n",
    "\n",
    "    # sorting the Data\n",
    "    df = df.sort_values(by=['Localidade','Ano'])\n",
    "\n",
    "    # Let us fill Null values of each column with the median of each column\n",
    "    # grouped by Locality. The remaining null values after these transformations\n",
    "    # must be dropped, since no data was found in these rows.\n",
    "    list_cols = df.drop(columns=['Localidade']).columns\n",
    "    def g(df):\n",
    "        return df.fillna(df.groupby(by=['Localidade'],as_index=False)[list_cols].transform('median'))\n",
    "\n",
    "    df = df.groupby(by=['Localidade'],as_index=False).apply(g)\n",
    "    # There are 30 remaining Null Values, which must be dropped.\n",
    "    df = df.dropna()\n",
    "\n",
    "    return df"
   ]
  },
  {
   "cell_type": "code",
   "execution_count": 4,
   "metadata": {},
   "outputs": [],
   "source": [
    "# Applying the function that cleans the data\n",
    "df = clean_data(df)"
   ]
  },
  {
   "cell_type": "code",
   "execution_count": 5,
   "metadata": {},
   "outputs": [
    {
     "data": {
      "text/plain": [
       "Ano                                              0\n",
       "Localidade                                       0\n",
       "Crimes de Ameaça                                 0\n",
       "Crimes de Estelionato                            0\n",
       "Crimes de Estupro                                0\n",
       "Crimes de Furto                                  0\n",
       "Crimes de Lesão Corporal                         0\n",
       "Crimes de Roubo                                  0\n",
       "Furtos de Veículos                               0\n",
       "Ocorrências Envolvendo Tráfico de Drogas         0\n",
       "Ocorrências Envolvendo Uso/Consumo de Drogas     0\n",
       "Perturbação do Sossego/Tranquilidade             0\n",
       "dtype: int64"
      ]
     },
     "execution_count": 5,
     "metadata": {},
     "output_type": "execute_result"
    }
   ],
   "source": [
    "# Verifying Null values along each column\n",
    "df.isnull().sum()"
   ]
  },
  {
   "cell_type": "code",
   "execution_count": 6,
   "metadata": {},
   "outputs": [
    {
     "name": "stdout",
     "output_type": "stream",
     "text": [
      "<class 'pandas.core.frame.DataFrame'>\n",
      "MultiIndex: 2370 entries, (0, 1) to (399, 2015)\n",
      "Data columns (total 12 columns):\n",
      " #   Column                                         Non-Null Count  Dtype  \n",
      "---  ------                                         --------------  -----  \n",
      " 0   Ano                                            2370 non-null   float64\n",
      " 1   Localidade                                     2370 non-null   object \n",
      " 2   Crimes de Ameaça                               2370 non-null   float64\n",
      " 3   Crimes de Estelionato                          2370 non-null   float64\n",
      " 4   Crimes de Estupro                              2370 non-null   float64\n",
      " 5   Crimes de Furto                                2370 non-null   float64\n",
      " 6   Crimes de Lesão Corporal                       2370 non-null   float64\n",
      " 7   Crimes de Roubo                                2370 non-null   float64\n",
      " 8   Furtos de Veículos                             2370 non-null   float64\n",
      " 9   Ocorrências Envolvendo Tráfico de Drogas       2370 non-null   float64\n",
      " 10  Ocorrências Envolvendo Uso/Consumo de Drogas   2370 non-null   float64\n",
      " 11  Perturbação do Sossego/Tranquilidade           2370 non-null   float64\n",
      "dtypes: float64(11), object(1)\n",
      "memory usage: 334.1+ KB\n"
     ]
    }
   ],
   "source": [
    "# Getting information about the type of each column\n",
    "# in order to verify it they are in an appropriate format\n",
    "df.info()"
   ]
  },
  {
   "cell_type": "code",
   "execution_count": 7,
   "metadata": {},
   "outputs": [],
   "source": [
    "# Exporting the DataFrame to .csv\n",
    "# This data can be used to create\n",
    "#df.to_csv('./cleaned_crimesPR.csv',index=False)"
   ]
  },
  {
   "cell_type": "code",
   "execution_count": null,
   "metadata": {},
   "outputs": [],
   "source": []
  }
 ],
 "metadata": {
  "kernelspec": {
   "display_name": "Python 3",
   "language": "python",
   "name": "python3"
  },
  "language_info": {
   "codemirror_mode": {
    "name": "ipython",
    "version": 3
   },
   "file_extension": ".py",
   "mimetype": "text/x-python",
   "name": "python",
   "nbconvert_exporter": "python",
   "pygments_lexer": "ipython3",
   "version": "3.10.12"
  }
 },
 "nbformat": 4,
 "nbformat_minor": 2
}
